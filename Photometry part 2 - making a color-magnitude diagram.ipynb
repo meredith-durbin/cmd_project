{
 "cells": [
  {
   "cell_type": "code",
   "execution_count": 1,
   "metadata": {},
   "outputs": [],
   "source": [
    "%matplotlib inline\n",
    "%config InlineBackend.figure_format = 'retina'\n",
    "\n",
    "import numpy as np\n",
    "from astropy.table import Table\n",
    "import matplotlib.pyplot as plt"
   ]
  },
  {
   "cell_type": "code",
   "execution_count": 2,
   "metadata": {},
   "outputs": [],
   "source": [
    "objects_table_blue = Table.read('NGC5053_blue_stars.txt', format='ascii')\n",
    "objects_table_red = Table.read('NGC5053_red_stars.txt', format='ascii')"
   ]
  },
  {
   "cell_type": "markdown",
   "metadata": {},
   "source": [
    "## Matching objects using coordinates"
   ]
  },
  {
   "cell_type": "code",
   "execution_count": 3,
   "metadata": {},
   "outputs": [],
   "source": [
    "objects_in_both = Table(names=['x_blue', 'x_red',\n",
    "                               'y_blue', 'y_red', \n",
    "                               'flux_blue', 'flux_red'])"
   ]
  },
  {
   "cell_type": "code",
   "execution_count": 4,
   "metadata": {},
   "outputs": [
    {
     "data": {
      "text/html": [
       "<i>Table length=683</i>\n",
       "<table id=\"table4468773328\" class=\"table-striped table-bordered table-condensed\">\n",
       "<thead><tr><th>x_blue</th><th>x_red</th><th>y_blue</th><th>y_red</th><th>flux_blue</th><th>flux_red</th></tr></thead>\n",
       "<thead><tr><th>float64</th><th>float64</th><th>float64</th><th>float64</th><th>float64</th><th>float64</th></tr></thead>\n",
       "<tr><td>6808.33791716</td><td>6808.34874278</td><td>1521.24312225</td><td>1521.15116015</td><td>444.303285152</td><td>294.961690653</td></tr>\n",
       "<tr><td>6384.34582281</td><td>6383.73582957</td><td>1540.00857509</td><td>1540.20568046</td><td>18930.3436217</td><td>14397.1314115</td></tr>\n",
       "<tr><td>6979.01056235</td><td>6979.00990003</td><td>1555.01159634</td><td>1555.01216177</td><td>325.00026477</td><td>222.453067074</td></tr>\n",
       "<tr><td>7128.33630143</td><td>7128.78333523</td><td>1682.63647689</td><td>1682.44891234</td><td>14962.2637205</td><td>7030.74593153</td></tr>\n",
       "<tr><td>6385.09094687</td><td>6385.20346406</td><td>1760.25101238</td><td>1760.39052523</td><td>616.804177947</td><td>444.026310704</td></tr>\n",
       "<tr><td>6262.53279474</td><td>6262.59444232</td><td>1827.23795918</td><td>1827.30811513</td><td>4634.99236175</td><td>3952.73665682</td></tr>\n",
       "<tr><td>7164.00026655</td><td>7164.01532134</td><td>1830.94088817</td><td>1830.72000077</td><td>389.80488988</td><td>257.283821674</td></tr>\n",
       "<tr><td>5923.73573413</td><td>5923.69434099</td><td>1912.87199229</td><td>1912.82479078</td><td>1229.01751265</td><td>968.742935573</td></tr>\n",
       "<tr><td>6859.8767887</td><td>6859.45607946</td><td>1938.20118343</td><td>1938.28469066</td><td>17950.7484511</td><td>14993.4526209</td></tr>\n",
       "<tr><td>7135.9070195</td><td>7135.76367456</td><td>1979.8957343</td><td>1979.42973477</td><td>3603.77282461</td><td>1288.07342201</td></tr>\n",
       "<tr><td>...</td><td>...</td><td>...</td><td>...</td><td>...</td><td>...</td></tr>\n",
       "<tr><td>5161.64013403</td><td>5161.64531205</td><td>7587.60284163</td><td>7587.64802099</td><td>615.267020097</td><td>461.688625222</td></tr>\n",
       "<tr><td>3686.37868157</td><td>3686.37716571</td><td>7600.65260609</td><td>7600.68502579</td><td>572.922225763</td><td>385.975554617</td></tr>\n",
       "<tr><td>3358.61476238</td><td>3358.64200794</td><td>7657.33024518</td><td>7657.14926844</td><td>444.45964582</td><td>304.110400688</td></tr>\n",
       "<tr><td>3096.00954142</td><td>3096.18503656</td><td>7789.48415309</td><td>7789.59097074</td><td>333.741419304</td><td>217.397778414</td></tr>\n",
       "<tr><td>3077.42041878</td><td>3077.31094853</td><td>7827.29938493</td><td>7827.33187584</td><td>983.503988202</td><td>899.935725762</td></tr>\n",
       "<tr><td>4302.51321869</td><td>4302.51801024</td><td>7868.76307166</td><td>7868.83578974</td><td>479.040356449</td><td>339.23813263</td></tr>\n",
       "<tr><td>3677.25279254</td><td>3677.47669765</td><td>7891.99089696</td><td>7891.85704567</td><td>4000.51023611</td><td>3219.61532749</td></tr>\n",
       "<tr><td>3396.88542444</td><td>3396.72483828</td><td>7913.22124568</td><td>7913.28639963</td><td>611.216888166</td><td>440.11297907</td></tr>\n",
       "<tr><td>3930.96089694</td><td>3931.3759272</td><td>7921.12459975</td><td>7921.06621893</td><td>4476.71247191</td><td>3638.97673884</td></tr>\n",
       "<tr><td>3738.37968548</td><td>3738.42922582</td><td>7991.92369455</td><td>7992.02993166</td><td>558.570579312</td><td>404.601159179</td></tr>\n",
       "</table>"
      ],
      "text/plain": [
       "<Table length=683>\n",
       "    x_blue        x_red         y_blue    ...   flux_blue      flux_red  \n",
       "   float64       float64       float64    ...    float64       float64   \n",
       "------------- ------------- ------------- ... ------------- -------------\n",
       "6808.33791716 6808.34874278 1521.24312225 ... 444.303285152 294.961690653\n",
       "6384.34582281 6383.73582957 1540.00857509 ... 18930.3436217 14397.1314115\n",
       "6979.01056235 6979.00990003 1555.01159634 ...  325.00026477 222.453067074\n",
       "7128.33630143 7128.78333523 1682.63647689 ... 14962.2637205 7030.74593153\n",
       "6385.09094687 6385.20346406 1760.25101238 ... 616.804177947 444.026310704\n",
       "6262.53279474 6262.59444232 1827.23795918 ... 4634.99236175 3952.73665682\n",
       "7164.00026655 7164.01532134 1830.94088817 ...  389.80488988 257.283821674\n",
       "5923.73573413 5923.69434099 1912.87199229 ... 1229.01751265 968.742935573\n",
       " 6859.8767887 6859.45607946 1938.20118343 ... 17950.7484511 14993.4526209\n",
       " 7135.9070195 7135.76367456  1979.8957343 ... 3603.77282461 1288.07342201\n",
       "          ...           ...           ... ...           ...           ...\n",
       "5161.64013403 5161.64531205 7587.60284163 ... 615.267020097 461.688625222\n",
       "3686.37868157 3686.37716571 7600.65260609 ... 572.922225763 385.975554617\n",
       "3358.61476238 3358.64200794 7657.33024518 ...  444.45964582 304.110400688\n",
       "3096.00954142 3096.18503656 7789.48415309 ... 333.741419304 217.397778414\n",
       "3077.42041878 3077.31094853 7827.29938493 ... 983.503988202 899.935725762\n",
       "4302.51321869 4302.51801024 7868.76307166 ... 479.040356449  339.23813263\n",
       "3677.25279254 3677.47669765 7891.99089696 ... 4000.51023611 3219.61532749\n",
       "3396.88542444 3396.72483828 7913.22124568 ... 611.216888166  440.11297907\n",
       "3930.96089694  3931.3759272 7921.12459975 ... 4476.71247191 3638.97673884\n",
       "3738.37968548 3738.42922582 7991.92369455 ... 558.570579312 404.601159179"
      ]
     },
     "execution_count": 4,
     "metadata": {},
     "output_type": "execute_result"
    }
   ],
   "source": [
    "max_distance = 1 # the measured centers of the stars must be less than 1 pixel apart\n",
    "\n",
    "# this might take a bit of time!\n",
    "for blue_row in objects_table_blue:\n",
    "    x_blue, y_blue = blue_row['x'], blue_row['y']\n",
    "    for red_row in objects_table_red:\n",
    "        x_red, y_red = red_row['x'], red_row['y']\n",
    "        distance = ((x_blue - x_red)**2 + (y_blue - y_red)**2)**0.5\n",
    "        if distance < max_distance:\n",
    "            flux_blue = blue_row['flux']\n",
    "            flux_red = red_row['flux']\n",
    "            objects_in_both.add_row([x_blue, x_red, y_blue, y_red, flux_blue, flux_red])\n",
    "            \n",
    "objects_in_both"
   ]
  },
  {
   "cell_type": "markdown",
   "metadata": {},
   "source": [
    "## Converting flux to magnitudes\n",
    "\n",
    "The system that most observational astronomers use to indicate brightness is called the [magnitude system](https://en.wikipedia.org/wiki/Magnitude_%29astronomy%29). Because nothing can ever be intuitive, the magnitude system runs backwards: a star with magnitude 1 is **brighter** than a star with magnitude 6. How much brighter? In addition to being backwards, magnitudes are *logarithmic*: a star with magnitude 1 is 100 times brighter than a star with magnitude 6, and a star with magnitude 6 is five times brighter than a star with magnitude 8. Makes sense, right?\n",
    "\n",
    "So, what we've measured is *flux*: the amount of light per unit time that reaches us from a source. How do we turn it into magnitudes?\n",
    "\n",
    "Mathematically, here's what this looks like. The apparent magnitude of a source, $m$, is related to the measured flux, $F$, as follows:\n",
    "\n",
    "<center>$m = -2.5\\log_{10} (F) - Z$</center>\n",
    "\n",
    "where $Z$ is a \"zeropoint\" that's specific to an individual imaging system (that is, the combination of the telescope mirror, detector, and filter—these all affect the measured image fluxes in different ways)."
   ]
  },
  {
   "cell_type": "code",
   "execution_count": 5,
   "metadata": {},
   "outputs": [],
   "source": [
    "zpt_blue = 26.418\n",
    "zpt_red = 25.527\n",
    "\n",
    "mag_blue = -2.5*np.log10(objects_in_both['flux_blue']) + zpt_blue\n",
    "mag_red = -2.5*np.log10(objects_in_both['flux_red']) + zpt_red"
   ]
  },
  {
   "cell_type": "code",
   "execution_count": 9,
   "metadata": {},
   "outputs": [
    {
     "data": {
      "text/html": [
       "<i>Table length=683</i>\n",
       "<table id=\"table4468773328\" class=\"table-striped table-bordered table-condensed\">\n",
       "<thead><tr><th>x_blue</th><th>x_red</th><th>y_blue</th><th>y_red</th><th>flux_blue</th><th>flux_red</th><th>mag_blue</th><th>mag_red</th></tr></thead>\n",
       "<thead><tr><th>float64</th><th>float64</th><th>float64</th><th>float64</th><th>float64</th><th>float64</th><th>float64</th><th>float64</th></tr></thead>\n",
       "<tr><td>6808.33791716</td><td>6808.34874278</td><td>1521.24312225</td><td>1521.15116015</td><td>444.303285152</td><td>294.961690653</td><td>19.798801189</td><td>19.3525859653</td></tr>\n",
       "<tr><td>6384.34582281</td><td>6383.73582957</td><td>1540.00857509</td><td>1540.20568046</td><td>18930.3436217</td><td>14397.1314115</td><td>15.7251037567</td><td>15.1313100781</td></tr>\n",
       "<tr><td>6979.01056235</td><td>6979.00990003</td><td>1555.01159634</td><td>1555.01216177</td><td>325.00026477</td><td>222.453067074</td><td>20.138290713</td><td>19.6589040051</td></tr>\n",
       "<tr><td>7128.33630143</td><td>7128.78333523</td><td>1682.63647689</td><td>1682.44891234</td><td>14962.2637205</td><td>7030.74593153</td><td>15.9805067369</td><td>15.9094964895</td></tr>\n",
       "<tr><td>6385.09094687</td><td>6385.20346406</td><td>1760.25101238</td><td>1760.39052523</td><td>616.804177947</td><td>444.026310704</td><td>19.4426317331</td><td>18.9084782377</td></tr>\n",
       "<tr><td>6262.53279474</td><td>6262.59444232</td><td>1827.23795918</td><td>1827.30811513</td><td>4634.99236175</td><td>3952.73665682</td><td>17.252877443</td><td>16.5347552967</td></tr>\n",
       "<tr><td>7164.00026655</td><td>7164.01532134</td><td>1830.94088817</td><td>1830.72000077</td><td>389.80488988</td><td>257.283821674</td><td>19.940881793</td><td>19.5009688048</td></tr>\n",
       "<tr><td>5923.73573413</td><td>5923.69434099</td><td>1912.87199229</td><td>1912.82479078</td><td>1229.01751265</td><td>968.742935573</td><td>18.6941048217</td><td>18.0614786288</td></tr>\n",
       "<tr><td>6859.8767887</td><td>6859.45607946</td><td>1938.20118343</td><td>1938.28469066</td><td>17950.7484511</td><td>14993.4526209</td><td>15.7827935973</td><td>15.0872458709</td></tr>\n",
       "<tr><td>7135.9070195</td><td>7135.76367456</td><td>1979.8957343</td><td>1979.42973477</td><td>3603.77282461</td><td>1288.07342201</td><td>17.5261064849</td><td>17.7521484522</td></tr>\n",
       "<tr><td>...</td><td>...</td><td>...</td><td>...</td><td>...</td><td>...</td><td>...</td><td>...</td></tr>\n",
       "<tr><td>5161.64013403</td><td>5161.64531205</td><td>7587.60284163</td><td>7587.64802099</td><td>615.267020097</td><td>461.688625222</td><td>19.445340909</td><td>18.8661270629</td></tr>\n",
       "<tr><td>3686.37868157</td><td>3686.37716571</td><td>7600.65260609</td><td>7600.68502579</td><td>572.922225763</td><td>385.975554617</td><td>19.5227608239</td><td>19.0606005002</td></tr>\n",
       "<tr><td>3358.61476238</td><td>3358.64200794</td><td>7657.33024518</td><td>7657.14926844</td><td>444.45964582</td><td>304.110400688</td><td>19.7984191604</td><td>19.3194218164</td></tr>\n",
       "<tr><td>3096.00954142</td><td>3096.18503656</td><td>7789.48415309</td><td>7789.59097074</td><td>333.741419304</td><td>217.397778414</td><td>20.1094747287</td><td>19.6838622457</td></tr>\n",
       "<tr><td>3077.42041878</td><td>3077.31094853</td><td>7827.29938493</td><td>7827.33187584</td><td>983.503988202</td><td>899.935725762</td><td>18.9360596866</td><td>18.1414712679</td></tr>\n",
       "<tr><td>4302.51321869</td><td>4302.51801024</td><td>7868.76307166</td><td>7868.83578974</td><td>479.040356449</td><td>339.23813263</td><td>19.7170697455</td><td>19.2007383402</td></tr>\n",
       "<tr><td>3677.25279254</td><td>3677.47669765</td><td>7891.99089696</td><td>7891.85704567</td><td>4000.51023611</td><td>3219.61532749</td><td>17.4127115351</td><td>16.7574900344</td></tr>\n",
       "<tr><td>3396.88542444</td><td>3396.72483828</td><td>7913.22124568</td><td>7913.28639963</td><td>611.216888166</td><td>440.11297907</td><td>19.4525116363</td><td>18.9180895594</td></tr>\n",
       "<tr><td>3930.96089694</td><td>3931.3759272</td><td>7921.12459975</td><td>7921.06621893</td><td>4476.71247191</td><td>3638.97673884</td><td>17.2906019959</td><td>16.6245518013</td></tr>\n",
       "<tr><td>3738.37968548</td><td>3738.42922582</td><td>7991.92369455</td><td>7992.02993166</td><td>558.570579312</td><td>404.601159179</td><td>19.5503048573</td><td>19.0094321933</td></tr>\n",
       "</table>"
      ],
      "text/plain": [
       "<Table length=683>\n",
       "    x_blue        x_red         y_blue    ...    mag_blue      mag_red   \n",
       "   float64       float64       float64    ...    float64       float64   \n",
       "------------- ------------- ------------- ... ------------- -------------\n",
       "6808.33791716 6808.34874278 1521.24312225 ...  19.798801189 19.3525859653\n",
       "6384.34582281 6383.73582957 1540.00857509 ... 15.7251037567 15.1313100781\n",
       "6979.01056235 6979.00990003 1555.01159634 ...  20.138290713 19.6589040051\n",
       "7128.33630143 7128.78333523 1682.63647689 ... 15.9805067369 15.9094964895\n",
       "6385.09094687 6385.20346406 1760.25101238 ... 19.4426317331 18.9084782377\n",
       "6262.53279474 6262.59444232 1827.23795918 ...  17.252877443 16.5347552967\n",
       "7164.00026655 7164.01532134 1830.94088817 ...  19.940881793 19.5009688048\n",
       "5923.73573413 5923.69434099 1912.87199229 ... 18.6941048217 18.0614786288\n",
       " 6859.8767887 6859.45607946 1938.20118343 ... 15.7827935973 15.0872458709\n",
       " 7135.9070195 7135.76367456  1979.8957343 ... 17.5261064849 17.7521484522\n",
       "          ...           ...           ... ...           ...           ...\n",
       "5161.64013403 5161.64531205 7587.60284163 ...  19.445340909 18.8661270629\n",
       "3686.37868157 3686.37716571 7600.65260609 ... 19.5227608239 19.0606005002\n",
       "3358.61476238 3358.64200794 7657.33024518 ... 19.7984191604 19.3194218164\n",
       "3096.00954142 3096.18503656 7789.48415309 ... 20.1094747287 19.6838622457\n",
       "3077.42041878 3077.31094853 7827.29938493 ... 18.9360596866 18.1414712679\n",
       "4302.51321869 4302.51801024 7868.76307166 ... 19.7170697455 19.2007383402\n",
       "3677.25279254 3677.47669765 7891.99089696 ... 17.4127115351 16.7574900344\n",
       "3396.88542444 3396.72483828 7913.22124568 ... 19.4525116363 18.9180895594\n",
       "3930.96089694  3931.3759272 7921.12459975 ... 17.2906019959 16.6245518013\n",
       "3738.37968548 3738.42922582 7991.92369455 ... 19.5503048573 19.0094321933"
      ]
     },
     "execution_count": 9,
     "metadata": {},
     "output_type": "execute_result"
    }
   ],
   "source": [
    "objects_in_both['mag_blue'] = mag_blue\n",
    "objects_in_both['mag_red'] = mag_red\n",
    "\n",
    "objects_in_both"
   ]
  },
  {
   "cell_type": "markdown",
   "metadata": {},
   "source": [
    "## How did we do?\n",
    "\n",
    "We have a reference catalog at hand, NGC5053_reference_catalog.txt, with high-quality photometry that we can compare our results to."
   ]
  },
  {
   "cell_type": "code",
   "execution_count": 14,
   "metadata": {},
   "outputs": [
    {
     "data": {
      "text/html": [
       "<i>Table length=874</i>\n",
       "<table id=\"table34637603616\" class=\"table-striped table-bordered table-condensed\">\n",
       "<thead><tr><th>x</th><th>y</th><th>mag_blue</th><th>mag_red</th><th>color</th></tr></thead>\n",
       "<thead><tr><th>float64</th><th>float64</th><th>float64</th><th>float64</th><th>float64</th></tr></thead>\n",
       "<tr><td>6384.182</td><td>1541.384</td><td>16.375</td><td>15.803</td><td>0.572</td></tr>\n",
       "<tr><td>7129.075</td><td>1683.002</td><td>16.744</td><td>16.608</td><td>0.136</td></tr>\n",
       "<tr><td>5937.366</td><td>1685.6</td><td>14.551</td><td>13.692</td><td>0.859</td></tr>\n",
       "<tr><td>6386.084</td><td>1761.278</td><td>19.482</td><td>19.014</td><td>0.468</td></tr>\n",
       "<tr><td>6263.428</td><td>1828.389</td><td>17.705</td><td>17.057</td><td>0.648</td></tr>\n",
       "<tr><td>7165.071</td><td>1831.855</td><td>20.07</td><td>19.72</td><td>0.35</td></tr>\n",
       "<tr><td>5924.667</td><td>1914.058</td><td>18.651</td><td>18.044</td><td>0.607</td></tr>\n",
       "<tr><td>6860.05</td><td>1939.498</td><td>16.114</td><td>15.383</td><td>0.731</td></tr>\n",
       "<tr><td>7136.75</td><td>1980.564</td><td>18.538</td><td>17.931</td><td>0.607</td></tr>\n",
       "<tr><td>5084.215</td><td>2006.029</td><td>19.087</td><td>18.508</td><td>0.579</td></tr>\n",
       "<tr><td>...</td><td>...</td><td>...</td><td>...</td><td>...</td></tr>\n",
       "<tr><td>3791.368</td><td>7077.932</td><td>20.252</td><td>19.814</td><td>0.438</td></tr>\n",
       "<tr><td>4817.459</td><td>7000.915</td><td>20.301</td><td>19.869</td><td>0.432</td></tr>\n",
       "<tr><td>2790.962</td><td>7194.002</td><td>20.308</td><td>19.864</td><td>0.444</td></tr>\n",
       "<tr><td>5492.412</td><td>7184.561</td><td>20.398</td><td>19.956</td><td>0.442</td></tr>\n",
       "<tr><td>5577.821</td><td>7227.791</td><td>20.314</td><td>19.877</td><td>0.437</td></tr>\n",
       "<tr><td>5497.755</td><td>7375.658</td><td>20.219</td><td>19.777</td><td>0.442</td></tr>\n",
       "<tr><td>5291.017</td><td>7554.837</td><td>20.388</td><td>19.948</td><td>0.44</td></tr>\n",
       "<tr><td>4050.691</td><td>7553.677</td><td>20.412</td><td>19.976</td><td>0.436</td></tr>\n",
       "<tr><td>3743.92</td><td>7621.446</td><td>20.439</td><td>19.994</td><td>0.445</td></tr>\n",
       "<tr><td>3612.859</td><td>7763.718</td><td>20.27</td><td>19.833</td><td>0.437</td></tr>\n",
       "</table>"
      ],
      "text/plain": [
       "<Table length=874>\n",
       "   x        y     mag_blue mag_red  color \n",
       "float64  float64  float64  float64 float64\n",
       "-------- -------- -------- ------- -------\n",
       "6384.182 1541.384   16.375  15.803   0.572\n",
       "7129.075 1683.002   16.744  16.608   0.136\n",
       "5937.366   1685.6   14.551  13.692   0.859\n",
       "6386.084 1761.278   19.482  19.014   0.468\n",
       "6263.428 1828.389   17.705  17.057   0.648\n",
       "7165.071 1831.855    20.07   19.72    0.35\n",
       "5924.667 1914.058   18.651  18.044   0.607\n",
       " 6860.05 1939.498   16.114  15.383   0.731\n",
       " 7136.75 1980.564   18.538  17.931   0.607\n",
       "5084.215 2006.029   19.087  18.508   0.579\n",
       "     ...      ...      ...     ...     ...\n",
       "3791.368 7077.932   20.252  19.814   0.438\n",
       "4817.459 7000.915   20.301  19.869   0.432\n",
       "2790.962 7194.002   20.308  19.864   0.444\n",
       "5492.412 7184.561   20.398  19.956   0.442\n",
       "5577.821 7227.791   20.314  19.877   0.437\n",
       "5497.755 7375.658   20.219  19.777   0.442\n",
       "5291.017 7554.837   20.388  19.948    0.44\n",
       "4050.691 7553.677   20.412  19.976   0.436\n",
       " 3743.92 7621.446   20.439  19.994   0.445\n",
       "3612.859 7763.718    20.27  19.833   0.437"
      ]
     },
     "execution_count": 14,
     "metadata": {},
     "output_type": "execute_result"
    }
   ],
   "source": [
    "objects_ref = Table.read('NGC5053_reference_catalog.txt', format='ascii')\n",
    "objects_ref"
   ]
  },
  {
   "cell_type": "code",
   "execution_count": 21,
   "metadata": {},
   "outputs": [
    {
     "data": {
      "image/png": "[encoded data removed]",
      "text/plain": [
       "<Figure size 504x576 with 1 Axes>"
      ]
     },
     "metadata": {
      "image/png": {
       "height": 481,
       "width": 441
      },
      "needs_background": "light"
     },
     "output_type": "display_data"
    }
   ],
   "source": [
    "fig, ax = plt.subplots(1, figsize=(7,8))\n",
    "ax.scatter(objects_ref['mag_blue']-objects_ref['mag_red'], objects_ref['mag_red'])\n",
    "ax.set_xlabel('Color')\n",
    "ax.set_ylabel('Magnitude (Red)')\n",
    "ax.invert_yaxis()"
   ]
  },
  {
   "cell_type": "code",
   "execution_count": null,
   "metadata": {},
   "outputs": [],
   "source": []
  }
 ],
 "metadata": {
  "kernelspec": {
   "display_name": "Python [conda env:astroconda]",
   "language": "python",
   "name": "conda-env-astroconda-py"
  },
  "language_info": {
   "codemirror_mode": {
    "name": "ipython",
    "version": 3
   },
   "file_extension": ".py",
   "mimetype": "text/x-python",
   "name": "python",
   "nbconvert_exporter": "python",
   "pygments_lexer": "ipython3",
   "version": "3.5.6"
  }
 },
 "nbformat": 4,
 "nbformat_minor": 2
}
